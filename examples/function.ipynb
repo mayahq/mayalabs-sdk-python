{
 "cells": [
  {
   "cell_type": "code",
   "execution_count": null,
   "metadata": {},
   "outputs": [],
   "source": [
    "import mayalabs\n",
    "\n",
    "script = \"\"\"\n",
    "1. inject default\n",
    "2. print {{term}}\n",
    "\"\"\"\n",
    "\n",
    "function = mayalabs.Function(name=\"Function1\", script=script)\n",
    "\n",
    "function.deploy()\n",
    "\n",
    "output = function(term=\"Dr. Homi Bhabha\")"
   ]
  }
 ],
 "metadata": {
  "kernelspec": {
   "display_name": "p3_9",
   "language": "python",
   "name": "python3"
  },
  "language_info": {
   "name": "python",
   "version": "3.9.16"
  },
  "orig_nbformat": 4,
  "vscode": {
   "interpreter": {
    "hash": "f9dc829a60bc88e95ee7515aa112f8b243e96ac4d61a0309ba2b4486d7d08976"
   }
  }
 },
 "nbformat": 4,
 "nbformat_minor": 2
}
