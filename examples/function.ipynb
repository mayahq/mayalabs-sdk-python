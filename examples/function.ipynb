{
 "cells": [
  {
   "cell_type": "code",
   "execution_count": null,
   "metadata": {},
   "outputs": [],
   "source": [
    "import mayalabs\n",
    "import asyncio\n",
    "\n",
    "mayalabs.auth.api_key = \"<MAYA_API_KEY>\"\n",
    "\n",
    "script = \"\"\"\n",
    "1. recieve message {{payload}}\n",
    "2. respond back with {{payload}}\n",
    "\"\"\"\n",
    "\n",
    "function = mayalabs.Function(name=\"FunctionEcho1\", script=script)\n"
   ]
  },
  {
   "cell_type": "code",
   "execution_count": null,
   "metadata": {},
   "outputs": [],
   "source": [
    "\n",
    "function.deploy()"
   ]
  },
  {
   "cell_type": "code",
   "execution_count": null,
   "metadata": {},
   "outputs": [],
   "source": [
    "output = function(term=\"Dr. Homi Bhabha\")"
   ]
  }
 ],
 "metadata": {
  "kernelspec": {
   "display_name": "p3_9",
   "language": "python",
   "name": "python3"
  },
  "language_info": {
   "codemirror_mode": {
    "name": "ipython",
    "version": 3
   },
   "file_extension": ".py",
   "mimetype": "text/x-python",
   "name": "python",
   "nbconvert_exporter": "python",
   "pygments_lexer": "ipython3",
   "version": "3.9.15"
  },
  "orig_nbformat": 4,
  "vscode": {
   "interpreter": {
    "hash": "f9dc829a60bc88e95ee7515aa112f8b243e96ac4d61a0309ba2b4486d7d08976"
   }
  }
 },
 "nbformat": 4,
 "nbformat_minor": 2
}
