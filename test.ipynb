{
 "cells": [
  {
   "cell_type": "code",
   "execution_count": 1,
   "metadata": {},
   "outputs": [],
   "source": [
    "\n",
    "import os\n",
    "import src as mayalabs\n",
    "\n",
    "\n",
    "script = \"\"\"\n",
    "1. trigger on receive\n",
    "2. send response back\n",
    "\"\"\"\n"
   ]
  },
  {
   "cell_type": "code",
   "execution_count": 2,
   "metadata": {},
   "outputs": [
    {
     "name": "stdout",
     "output_type": "stream",
     "text": [
      "<src.session.Session object at 0x110f65e80>\n"
     ]
    }
   ],
   "source": [
    "session = mayalabs.Session.new(script=script)\n",
    "\n",
    "print(session)"
   ]
  },
  {
   "cell_type": "code",
   "execution_count": null,
   "metadata": {},
   "outputs": [],
   "source": [
    "worker = mayalabs.Worker.new(name=\"SDK:Testing AP1\")"
   ]
  },
  {
   "cell_type": "code",
   "execution_count": null,
   "metadata": {},
   "outputs": [],
   "source": [
    "worker.start()"
   ]
  },
  {
   "cell_type": "code",
   "execution_count": 5,
   "metadata": {},
   "outputs": [
    {
     "name": "stdout",
     "output_type": "stream",
     "text": [
      "641e1c8c9021762879de606a\n",
      "{'publishedSkillPacks': [], 'skillPacks': [], 'modules': [], 'externalModules': [], 'local': False, 'autoShutdownBehaviour': 'BY_LAST_USE', 'editorAutoDeploy': False, 'parent': None, 'alias': None, 'invalidNodes': [], 'createdAt': '2023-03-22T10:20:50.000Z', 'updatedAt': '2023-03-24T21:56:43.000Z', '_id': '641e1c8c9021762879de606a', 'profileSlug': 'mayahq', 'name': 'SDK:Testing AP1', 'status': 'STARTED', 'deviceID': '5e0bbfe3717896af1cbb763b', 'deviceName': 'online-cpu', 'device': {'platform': 'cloud'}, 'thumbnail': 'https://maya-frontend-static.s3.ap-south-1.amazonaws.com/default.jpg', 'intents': [], 'url': 'https://rt-641e1c8c9021762879de606a.mayahq.dev.mayalabs.io', 'deleted': False, 'createdBy': 'mayahq', 'updatedBy': 'mayahq', '__v': 0}\n",
      "Worker not found\n",
      "Starting worker:  SDK:Testing AP1 ...\n",
      "Generating program...\n",
      "Waiting for worker to start...\n",
      "Started! Deploying on worker: SDK:Testing AP1 ...\n"
     ]
    },
    {
     "data": {
      "text/plain": [
       "{'status': 'ok'}"
      ]
     },
     "execution_count": 5,
     "metadata": {},
     "output_type": "execute_result"
    },
    {
     "name": "stdout",
     "output_type": "stream",
     "text": [
      "COMMS URL: wss://paccomms.pac.dev.mayalabs.io/socket\n",
      "api key: mayakey-$2a$10$J/7TAiDcAzm64PcixY5Y4OQNa4uJS.NorjliEWMbQmA1tWhh6FkgO\n",
      "Websocket URL: wss://paccomms.pac.dev.mayalabs.io/socket?connId=4e29630e-92e6-4980-a858-31bd6d17e665&apiKey=mayakey-$2a$10$J/7TAiDcAzm64PcixY5Y4OQNa4uJS.NorjliEWMbQmA1tWhh6FkgO\n",
      "TaskID: 16ea7122-306d-494d-b42c-21e793bf1e27\n",
      "Received from websocket: {'task_id': '16ea7122-306d-494d-b42c-21e793bf1e27', 'type': 'GENERATE', 'data': {'status': 'response', 'session_id': 'session-e3a7b34c5bc4', 'stitched_flow': [{'valid': True, 'type': 'receive-message', 'z': 'd8385fa6dab115f0', 'name': '', 'isProfileConfigNode': False, 'respondImmediately': 'false', 'payloadTyperespondImmediately': 'bool', 'x': 20, 'y': 20, 'wires': [['9223372037739313472']], 'module': 'maya-resources', 'version': '1.0.0', 'modules': 'maya-resources', 'changed_by_user': False, '_id': '402c7e6a1a4c4987', '_step_id': 'step-instance-8045f0', 'id': '9223372038177417829'}], 'step_graph': [['step-instance-8045f0', 'step-instance-fbc136']], 'steps': {'step-instance-8045f0': {'id': 'step-instance-8045f0', 'type': 'continue', 'indent_lvl': 0, 'lvl_idx': 0, 'from_node': '', 'prefix': '1.', 'parent_id': '', 'generated': True, 'scrambled': False, 'transformed': False, 'generation_id': 'generation-db3629d54350', 'error': None, 'deployed': False, 'children': [], 'use_cache': True, 'text': 'trigger on receive'}, 'step-instance-fbc136': {'id': 'step-instance-fbc136', 'type': 'continue', 'indent_lvl': 0, 'lvl_idx': 1, 'from_node': '', 'prefix': '2.', 'parent_id': '', 'generated': False, 'scrambled': False, 'transformed': False, 'generation_id': '', 'error': None, 'deployed': False, 'children': [], 'use_cache': True, 'text': 'send response back'}}, 'recipe': '1. trigger on receive\\n2. send response back (*)\\n', 'diff': None, 'time': 1679695022.3068345}}\n"
     ]
    }
   ],
   "source": [
    "session.deploy(worker_id=worker.id)"
   ]
  },
  {
   "cell_type": "code",
   "execution_count": 7,
   "metadata": {},
   "outputs": [
    {
     "name": "stdout",
     "output_type": "stream",
     "text": [
      "{'hello': 'world'}\n"
     ]
    }
   ],
   "source": [
    "output = session.call({'hello': 'world'})\n",
    "print(output)"
   ]
  },
  {
   "cell_type": "code",
   "execution_count": 4,
   "metadata": {},
   "outputs": [
    {
     "data": {
      "text/plain": [
       "<bound method Response.json of <Response [200]>>"
      ]
     },
     "execution_count": 4,
     "metadata": {},
     "output_type": "execute_result"
    }
   ],
   "source": [
    "worker.delete()"
   ]
  },
  {
   "cell_type": "code",
   "execution_count": 2,
   "metadata": {},
   "outputs": [
    {
     "data": {
      "text/plain": [
       "<bound method Response.json of <Response [200]>>"
      ]
     },
     "execution_count": 2,
     "metadata": {},
     "output_type": "execute_result"
    }
   ],
   "source": [
    "session.delete()"
   ]
  }
 ],
 "metadata": {
  "kernelspec": {
   "display_name": "p3_9",
   "language": "python",
   "name": "python3"
  },
  "language_info": {
   "codemirror_mode": {
    "name": "ipython",
    "version": 3
   },
   "file_extension": ".py",
   "mimetype": "text/x-python",
   "name": "python",
   "nbconvert_exporter": "python",
   "pygments_lexer": "ipython3",
   "version": "3.9.16"
  },
  "orig_nbformat": 4,
  "vscode": {
   "interpreter": {
    "hash": "f9dc829a60bc88e95ee7515aa112f8b243e96ac4d61a0309ba2b4486d7d08976"
   }
  }
 },
 "nbformat": 4,
 "nbformat_minor": 2
}
