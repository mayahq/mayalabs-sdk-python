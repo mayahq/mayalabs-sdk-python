{
 "cells": [
  {
   "cell_type": "code",
   "execution_count": 1,
   "metadata": {},
   "outputs": [],
   "source": [
    "\n",
    "import os\n",
    "import src as mayalabs\n",
    "\n",
    "\n",
    "script = \"\"\"\n",
    "1. inject default\n",
    "2. print {{payload}}\n",
    "\"\"\"\n"
   ]
  },
  {
   "cell_type": "code",
   "execution_count": 2,
   "metadata": {},
   "outputs": [
    {
     "name": "stdout",
     "output_type": "stream",
     "text": [
      "<src.session.Session object at 0x1077de2e0>\n"
     ]
    }
   ],
   "source": [
    "session = mayalabs.Session.new(script=script)\n",
    "\n",
    "print(session)"
   ]
  },
  {
   "cell_type": "code",
   "execution_count": 4,
   "metadata": {},
   "outputs": [
    {
     "name": "stdout",
     "output_type": "stream",
     "text": [
      "{'status': 'ok', 'profile': 'profile-mayahq', 'response': {'status': 'response', 'session_id': 'session-4f0252ef37a2', 'stitched_flow': [], 'step_graph': [['step-instance-0e7f41', 'step-instance-0eb5b9']], 'steps': {'step-instance-0e7f41': {'id': 'step-instance-0e7f41', 'type': 'continue', 'indent_lvl': 0, 'lvl_idx': 0, 'from_node': '', 'prefix': '1.', 'parent_id': '', 'generated': False, 'scrambled': False, 'transformed': False, 'generation_id': '', 'error': None, 'deployed': False, 'children': [], 'use_cache': True, 'text': 'inject default'}, 'step-instance-0eb5b9': {'id': 'step-instance-0eb5b9', 'type': 'continue', 'indent_lvl': 0, 'lvl_idx': 1, 'from_node': '', 'prefix': '2.', 'parent_id': '', 'generated': False, 'scrambled': False, 'transformed': False, 'generation_id': '', 'error': None, 'deployed': False, 'children': [], 'use_cache': True, 'text': 'print {{payload}}'}}, 'recipe': '1. inject default (*)\\n2. print {{payload}} (*)\\n', 'diff': None, 'time': 1679612985.2989311}}\n"
     ]
    }
   ],
   "source": [
    "session.delete()"
   ]
  },
  {
   "cell_type": "code",
   "execution_count": 3,
   "metadata": {},
   "outputs": [
    {
     "name": "stdout",
     "output_type": "stream",
     "text": [
      "COMMS URL: wss://paccomms.pac.dev.mayalabs.io/socket\n",
      "api key: mayakey-$2a$10$J/7TAiDcAzm64PcixY5Y4OQNa4uJS.NorjliEWMbQmA1tWhh6FkgO\n",
      "Websocket URL: wss://paccomms.pac.dev.mayalabs.io/socket?connId=3687d8e2-0bad-431a-ad84-4a6b69d0754a&apiKey=mayakey-$2a$10$J/7TAiDcAzm64PcixY5Y4OQNa4uJS.NorjliEWMbQmA1tWhh6FkgO\n",
      "TaskID: 898233e4-10e5-4ae4-bb73-817bc3d041a3\n",
      "Received from websocket: {'task_id': '898233e4-10e5-4ae4-bb73-817bc3d041a3', 'type': 'GENERATE', 'data': {'status': 'response', 'session_id': 'session-50dd87314f54', 'stitched_flow': [{'crontab': '', 'module': 'node-red', 'name': '', 'once': False, 'onceDelay': 0.1, 'payloadType': 'date', 'props': [{'p': 'payload'}], 'repeat': '', 'topic': '', 'type': 'inject', 'valid': True, 'version': '2.0.6-git', 'wires': [['9223372040448660270']], 'x': 20, 'y': 20, 'z': '01e3a8d9b1e15edd', 'modules': 'node-red', 'changed_by_user': False, '_id': '621b5c543650c4d1', '_step_id': 'step-instance-c8c539', 'id': '9223372040778431758'}], 'step_graph': [['step-instance-c8c539', 'step-instance-a1d7d7']], 'steps': {'step-instance-c8c539': {'id': 'step-instance-c8c539', 'type': 'continue', 'indent_lvl': 0, 'lvl_idx': 0, 'from_node': '', 'prefix': '1.', 'parent_id': '', 'generated': True, 'scrambled': False, 'transformed': False, 'generation_id': 'generation-dfd677d3bf91', 'error': None, 'deployed': False, 'children': [], 'use_cache': True, 'text': 'inject default'}, 'step-instance-a1d7d7': {'id': 'step-instance-a1d7d7', 'type': 'continue', 'indent_lvl': 0, 'lvl_idx': 1, 'from_node': '', 'prefix': '2.', 'parent_id': '', 'generated': False, 'scrambled': False, 'transformed': False, 'generation_id': '', 'error': None, 'deployed': False, 'children': [], 'use_cache': True, 'text': 'print {{payload}}'}}, 'recipe': '1. inject default\\n2. print {{payload}} (*)\\n', 'diff': None, 'time': 1679613868.6140807}}\n"
     ]
    }
   ],
   "source": [
    "session.generate()"
   ]
  },
  {
   "cell_type": "code",
   "execution_count": 4,
   "metadata": {},
   "outputs": [
    {
     "data": {
      "text/plain": [
       "{'status': 'ok'}"
      ]
     },
     "execution_count": 4,
     "metadata": {},
     "output_type": "execute_result"
    }
   ],
   "source": [
    "session.deploy(worker_id='641cdd309021764876de12e2')"
   ]
  },
  {
   "cell_type": "code",
   "execution_count": 4,
   "metadata": {},
   "outputs": [
    {
     "name": "stdout",
     "output_type": "stream",
     "text": [
      "{'url': 'https://api.dev.mayalabs.io/app/v2/brains', 'method': 'post', 'json': {'name': 'Testing AP1', 'alias': None, 'default': False, 'device': {'platform': 'cloud'}}, 'headers': {'x-api-key': 'mayakey-$2a$10$J/7TAiDcAzm64PcixY5Y4OQNa4uJS.NorjliEWMbQmA1tWhh6FkgO'}}\n",
      "{'message': 'Workspace created successfully', 'error': False, 'status': 200, 'results': {'publishedSkillPacks': [], 'skillPacks': [], 'modules': [], 'externalModules': [], 'local': False, 'autoShutdownBehaviour': 'BY_LAST_USE', 'editorAutoDeploy': False, 'parent': None, 'alias': None, 'invalidNodes': [], 'createdAt': '2023-03-22T10:20:50.000Z', 'updatedAt': '2023-03-22T10:20:50.000Z', '_id': '641cdd309021764876de12e2', 'profileSlug': 'mayahq', 'name': 'Testing AP1', 'status': 'STOPPED', 'deviceID': '5e0bbfe3717896af1cbb763b', 'deviceName': 'online-cpu', 'device': {'platform': 'cloud'}, 'thumbnail': 'https://maya-frontend-static.s3.ap-south-1.amazonaws.com/default.jpg', 'intents': [], 'url': 'https://rt-641cdd309021764876de12e2.mayahq.dev.mayalabs.io', 'deleted': False, 'createdBy': 'mayahq', 'updatedBy': 'mayahq', '__v': 0}}\n"
     ]
    }
   ],
   "source": [
    "worker = mayalabs.Worker.new(name=\"Testing AP1\")"
   ]
  },
  {
   "cell_type": "code",
   "execution_count": 5,
   "metadata": {},
   "outputs": [
    {
     "data": {
      "text/plain": [
       "{'message': 'Runtime id undefined has received start signal',\n",
       " 'error': False,\n",
       " 'status': 200,\n",
       " 'results': {'publishedSkillPacks': [],\n",
       "  'skillPacks': [],\n",
       "  'modules': [],\n",
       "  'externalModules': [],\n",
       "  'local': False,\n",
       "  'autoShutdownBehaviour': 'BY_LAST_USE',\n",
       "  'editorAutoDeploy': False,\n",
       "  'parent': None,\n",
       "  'alias': None,\n",
       "  'invalidNodes': [],\n",
       "  'createdAt': '2023-03-22T10:20:50.000Z',\n",
       "  'updatedAt': '2023-03-23T23:14:00.000Z',\n",
       "  '_id': '641cdd309021764876de12e2',\n",
       "  'profileSlug': 'mayahq',\n",
       "  'name': 'Testing AP1',\n",
       "  'status': 'PENDING',\n",
       "  'deviceID': '5e0bbfe3717896af1cbb763b',\n",
       "  'deviceName': 'online-cpu',\n",
       "  'device': {'platform': 'cloud'},\n",
       "  'thumbnail': 'https://maya-frontend-static.s3.ap-south-1.amazonaws.com/default.jpg',\n",
       "  'intents': [],\n",
       "  'url': 'https://rt-641cdd309021764876de12e2.mayahq.dev.mayalabs.io',\n",
       "  'deleted': False,\n",
       "  'createdBy': 'mayahq',\n",
       "  'updatedBy': 'mayahq',\n",
       "  '__v': 0}}"
      ]
     },
     "execution_count": 5,
     "metadata": {},
     "output_type": "execute_result"
    }
   ],
   "source": [
    "worker.start()"
   ]
  },
  {
   "cell_type": "code",
   "execution_count": 4,
   "metadata": {},
   "outputs": [
    {
     "data": {
      "text/plain": [
       "<bound method Response.json of <Response [200]>>"
      ]
     },
     "execution_count": 4,
     "metadata": {},
     "output_type": "execute_result"
    }
   ],
   "source": [
    "worker.delete()"
   ]
  },
  {
   "cell_type": "code",
   "execution_count": 3,
   "metadata": {},
   "outputs": [
    {
     "name": "stdout",
     "output_type": "stream",
     "text": [
      "{'url': 'https://api.dev.mayalabs.io/app/v2/brains', 'method': 'post', 'json': {'name': 'TESTINGBOY2', 'alias': 'API', 'default': False, 'device': {'platform': 'cloud'}}, 'headers': {'x-api-key': 'mayakey-$2a$10$J/7TAiDcAzm64PcixY5Y4OQNa4uJS.NorjliEWMbQmA1tWhh6FkgO'}}\n",
      "641cb8d590217674ffde0b39 {'message': 'Workspace created successfully', 'error': False, 'status': 200, 'results': {'publishedSkillPacks': [], 'skillPacks': [], 'modules': [], 'externalModules': [], 'local': False, 'autoShutdownBehaviour': 'BY_LAST_USE', 'editorAutoDeploy': False, 'parent': None, 'alias': 'API', 'invalidNodes': [], 'createdAt': '2023-03-22T10:20:50.000Z', 'updatedAt': '2023-03-22T10:20:50.000Z', '_id': '641cb8d590217674ffde0b39', 'profileSlug': 'mayahq', 'name': 'TESTINGBOY2', 'status': 'STOPPED', 'deviceID': '5e0bbfe3717896af1cbb763b', 'deviceName': 'online-cpu', 'device': {'platform': 'cloud'}, 'thumbnail': 'https://maya-frontend-static.s3.ap-south-1.amazonaws.com/default.jpg', 'intents': [], 'url': 'https://rt-641cb8d590217674ffde0b39.mayahq.dev.mayalabs.io', 'deleted': False, 'createdBy': 'mayahq', 'updatedBy': 'mayahq', '__v': 0}}\n"
     ]
    }
   ],
   "source": [
    "client = WorkerClient()\n",
    "\n",
    "create_response = client.create_worker(\"TESTINGBOY2\", alias=\"API\")\n",
    "worker_id = create_response['results']['_id']\n",
    "print(worker_id, create_response)\n",
    "start_response = client.start_worker(worker_id, auto_shutdown_behaviour=True)"
   ]
  },
  {
   "cell_type": "code",
   "execution_count": 2,
   "metadata": {},
   "outputs": [
    {
     "data": {
      "text/plain": [
       "<bound method Response.json of <Response [200]>>"
      ]
     },
     "execution_count": 2,
     "metadata": {},
     "output_type": "execute_result"
    }
   ],
   "source": [
    "client.delete_worker(worker_id)"
   ]
  },
  {
   "cell_type": "code",
   "execution_count": 4,
   "metadata": {},
   "outputs": [
    {
     "name": "stdout",
     "output_type": "stream",
     "text": [
      "{'status': 'ok', 'profile': 'profile-mayahq', 'response': {'status': 'response', 'session_id': 'session-974d0482d966', 'stitched_flow': [], 'step_graph': [['step-instance-34a9e8', 'step-instance-0556ac']], 'steps': {'step-instance-34a9e8': {'id': 'step-instance-34a9e8', 'type': 'continue', 'indent_lvl': 0, 'lvl_idx': 0, 'from_node': '', 'prefix': '1.', 'parent_id': '', 'generated': False, 'scrambled': False, 'transformed': False, 'generation_id': '', 'error': None, 'deployed': False, 'children': [], 'use_cache': True, 'text': 'inject default'}, 'step-instance-0556ac': {'id': 'step-instance-0556ac', 'type': 'continue', 'indent_lvl': 0, 'lvl_idx': 1, 'from_node': '', 'prefix': '2.', 'parent_id': '', 'generated': False, 'scrambled': False, 'transformed': False, 'generation_id': '', 'error': None, 'deployed': False, 'children': [], 'use_cache': True, 'text': 'print {{payload}}'}}, 'recipe': '1. inject default (*)\\n2. print {{payload}} (*)\\n', 'diff': None, 'time': 1679604025.8427944}}\n"
     ]
    }
   ],
   "source": [
    "from src import SessionClient\n",
    "\n",
    "script = \"\"\"\n",
    "1. inject default\n",
    "2. print {{payload}}\n",
    "\"\"\"\n",
    "\n",
    "response = SessionClient().create_session(script)\n",
    "print(response)"
   ]
  },
  {
   "cell_type": "code",
   "execution_count": null,
   "metadata": {},
   "outputs": [],
   "source": [
    "from src.utils.pac_engine import GenerateTask,"
   ]
  }
 ],
 "metadata": {
  "kernelspec": {
   "display_name": "p3_9",
   "language": "python",
   "name": "python3"
  },
  "language_info": {
   "codemirror_mode": {
    "name": "ipython",
    "version": 3
   },
   "file_extension": ".py",
   "mimetype": "text/x-python",
   "name": "python",
   "nbconvert_exporter": "python",
   "pygments_lexer": "ipython3",
   "version": "3.9.16"
  },
  "orig_nbformat": 4,
  "vscode": {
   "interpreter": {
    "hash": "f9dc829a60bc88e95ee7515aa112f8b243e96ac4d61a0309ba2b4486d7d08976"
   }
  }
 },
 "nbformat": 4,
 "nbformat_minor": 2
}
