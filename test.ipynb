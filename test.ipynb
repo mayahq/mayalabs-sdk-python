{
 "cells": [
  {
   "cell_type": "code",
   "execution_count": 2,
   "metadata": {},
   "outputs": [
    {
     "ename": "IndentationError",
     "evalue": "expected an indented block (session.py, line 8)",
     "output_type": "error",
     "traceback": [
      "Traceback \u001b[0;36m(most recent call last)\u001b[0m:\n",
      "\u001b[0m  File \u001b[1;32m~/anaconda3/envs/p3_9/lib/python3.9/site-packages/IPython/core/interactiveshell.py:3442\u001b[0m in \u001b[1;35mrun_code\u001b[0m\n    exec(code_obj, self.user_global_ns, self.user_ns)\u001b[0m\n",
      "\u001b[0m  Cell \u001b[1;32mIn[2], line 1\u001b[0m\n    from src import Session\u001b[0m\n",
      "\u001b[0;36m  File \u001b[0;32m~/Maya/ml/repositories/mayalabs-sdk-python/src/__init__.py:1\u001b[0;36m\n\u001b[0;31m    from .session import Session\u001b[0;36m\n",
      "\u001b[0;36m  File \u001b[0;32m~/Maya/ml/repositories/mayalabs-sdk-python/src/session.py:8\u001b[0;36m\u001b[0m\n\u001b[0;31m    def start(self):\u001b[0m\n\u001b[0m    ^\u001b[0m\n\u001b[0;31mIndentationError\u001b[0m\u001b[0;31m:\u001b[0m expected an indented block\n"
     ]
    }
   ],
   "source": [
    "import src as mayalabs\n",
    "\n",
    "\n",
    "mayalabs.api_key = \"mayakey-$2a$10$J/7TAiDcAzm64PcixY5Y4OQNa4uJS.NorjliEWMbQmA1tWhh6FkgO\"\n",
    "\n",
    "\n",
    "\n"
   ]
  },
  {
   "cell_type": "code",
   "execution_count": null,
   "metadata": {},
   "outputs": [],
   "source": []
  }
 ],
 "metadata": {
  "kernelspec": {
   "display_name": "p3_9",
   "language": "python",
   "name": "python3"
  },
  "language_info": {
   "codemirror_mode": {
    "name": "ipython",
    "version": 3
   },
   "file_extension": ".py",
   "mimetype": "text/x-python",
   "name": "python",
   "nbconvert_exporter": "python",
   "pygments_lexer": "ipython3",
   "version": "3.9.16"
  },
  "orig_nbformat": 4,
  "vscode": {
   "interpreter": {
    "hash": "f9dc829a60bc88e95ee7515aa112f8b243e96ac4d61a0309ba2b4486d7d08976"
   }
  }
 },
 "nbformat": 4,
 "nbformat_minor": 2
}
