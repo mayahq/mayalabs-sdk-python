{
 "cells": [
  {
   "cell_type": "code",
   "execution_count": 1,
   "metadata": {},
   "outputs": [],
   "source": [
    "\n",
    "import os\n",
    "import mayalabs\n",
    "\n",
    "mayalabs.auth.api_key = \"<Your Key Here>\"\n",
    "# mayalabs = Mayalabs(api_key=\"\")\n",
    "\n",
    "script = \"\"\"\n",
    "1. trigger on receive (*)\n",
    "2. query mysql with 'SELECT * FROM BusinessPartners;' (*)\n",
    "3. Show in a table with button 'Approve now' (*)\n",
    "    - 3.1. print {{payload.result}} (*)\n",
    "    3.2 send response back (*)\n",
    "\"\"\"\n"
   ]
  },
  {
   "cell_type": "code",
   "execution_count": 2,
   "metadata": {},
   "outputs": [
    {
     "data": {
      "text/plain": [
       "'session-deadf2ee486e'"
      ]
     },
     "execution_count": 2,
     "metadata": {},
     "output_type": "execute_result"
    }
   ],
   "source": [
    "session = mayalabs.Session.new(script=script)\n",
    "\n",
    "session.id"
   ]
  },
  {
   "cell_type": "code",
   "execution_count": 3,
   "metadata": {},
   "outputs": [
    {
     "name": "stdout",
     "output_type": "stream",
     "text": [
      "{'url': 'https://api.dev.mayalabs.io/app/v2/brains', 'method': 'post', 'json': {'name': 'SDK:Testing Instruct 25', 'alias': None, 'default': False, 'device': {'platform': 'cloud'}}, 'headers': {'x-api-key': 'mayakey-$2a$10$l9DHHoNH8QuMMJf3WIW6qOiQjPhq91hJBIGEQXP4PuDrxETRJY2/a'}}\n",
      "{'message': 'Workspace created successfully', 'error': False, 'status': 200, 'results': {'publishedSkillPacks': [], 'skillPacks': [], 'modules': [], 'externalModules': [], 'local': False, 'autoShutdownBehaviour': 'BY_LAST_USE', 'editorAutoDeploy': False, 'parent': None, 'alias': None, 'invalidNodes': [], 'createdAt': '2023-03-25T14:42:18.000Z', 'updatedAt': '2023-03-25T14:42:18.000Z', '_id': '642203b338b70b221c4bc99f', 'profileSlug': 'boys', 'name': 'SDK:Testing Instruct 25', 'status': 'STOPPED', 'deviceID': '5e0bbfe3717896af1cbb763b', 'deviceName': 'online-cpu', 'device': {'platform': 'cloud'}, 'thumbnail': 'https://maya-frontend-static.s3.ap-south-1.amazonaws.com/default.jpg', 'intents': [], 'url': 'https://rt-642203b338b70b221c4bc99f.inherent-suggestion-n921n.apsh1.dev.mayalabs.io', 'deleted': False, 'createdBy': 'boys', 'updatedBy': 'boys', '__v': 0}}\n"
     ]
    }
   ],
   "source": [
    "worker = mayalabs.Worker.new(name=\"SDK:Testing Instruct 25\")"
   ]
  },
  {
   "cell_type": "code",
   "execution_count": null,
   "metadata": {},
   "outputs": [],
   "source": [
    "# worker.start()"
   ]
  },
  {
   "cell_type": "code",
   "execution_count": null,
   "metadata": {},
   "outputs": [],
   "source": [
    "# session.generate()"
   ]
  },
  {
   "cell_type": "code",
   "execution_count": 4,
   "metadata": {},
   "outputs": [
    {
     "name": "stdout",
     "output_type": "stream",
     "text": [
      "{'publishedSkillPacks': [], 'skillPacks': [], 'modules': [], 'externalModules': [], 'local': False, 'autoShutdownBehaviour': 'BY_LAST_USE', 'editorAutoDeploy': False, 'parent': None, 'alias': None, 'invalidNodes': [], 'createdAt': '2023-03-25T14:42:18.000Z', 'updatedAt': '2023-03-25T14:42:18.000Z', '_id': '642203b338b70b221c4bc99f', 'profileSlug': 'boys', 'name': 'SDK:Testing Instruct 25', 'status': 'STOPPED', 'deviceID': '5e0bbfe3717896af1cbb763b', 'deviceName': 'online-cpu', 'device': {'platform': 'cloud'}, 'thumbnail': 'https://maya-frontend-static.s3.ap-south-1.amazonaws.com/default.jpg', 'intents': [], 'url': 'https://rt-642203b338b70b221c4bc99f.inherent-suggestion-n921n.apsh1.dev.mayalabs.io', 'deleted': False, 'createdBy': 'boys', 'updatedBy': 'boys', '__v': 0}\n",
      "Found worker:  SDK:Testing Instruct 25\n",
      "Deploying...\n",
      "Starting worker:  SDK:Testing Instruct 25 ...\n",
      "Generating program...\n",
      "Program generated <Future at 0x105c68610 state=finished raised NameError>\n",
      "Checking - worker status: STOPPED\n",
      "Waiting for worker to start...\n",
      "Checking - worker status: PENDING\n",
      "Waiting for worker to start...\n",
      "Checking - worker status: PENDING\n",
      "Waiting for worker to start...\n",
      "Checking - worker status: PENDING\n",
      "Waiting for worker to start...\n",
      "Checking - worker status: PENDING\n",
      "Waiting for worker to start...\n",
      "Checking - worker status: PENDING\n",
      "Waiting for worker to start...\n",
      "Deploying on worker: SDK:Testing Instruct 25 ...\n"
     ]
    },
    {
     "data": {
      "text/plain": [
       "{'status': 'ok'}"
      ]
     },
     "execution_count": 4,
     "metadata": {},
     "output_type": "execute_result"
    }
   ],
   "source": [
    "\n",
    "\n",
    "session.deploy(worker_id=worker.id)\n",
    "# or just session.deploy()"
   ]
  },
  {
   "cell_type": "code",
   "execution_count": null,
   "metadata": {},
   "outputs": [],
   "source": [
    "output = session.call({'hello': 'world'})\n",
    "print(output)"
   ]
  },
  {
   "cell_type": "code",
   "execution_count": 5,
   "metadata": {},
   "outputs": [
    {
     "data": {
      "text/plain": [
       "<bound method Response.json of <Response [200]>>"
      ]
     },
     "execution_count": 5,
     "metadata": {},
     "output_type": "execute_result"
    }
   ],
   "source": [
    "worker.delete()"
   ]
  },
  {
   "cell_type": "code",
   "execution_count": 6,
   "metadata": {},
   "outputs": [
    {
     "name": "stdout",
     "output_type": "stream",
     "text": [
      "{'status': 'ok'}\n"
     ]
    }
   ],
   "source": [
    "session.delete()"
   ]
  },
  {
   "cell_type": "code",
   "execution_count": null,
   "metadata": {},
   "outputs": [],
   "source": []
  }
 ],
 "metadata": {
  "kernelspec": {
   "display_name": "p3_9",
   "language": "python",
   "name": "python3"
  },
  "language_info": {
   "codemirror_mode": {
    "name": "ipython",
    "version": 3
   },
   "file_extension": ".py",
   "mimetype": "text/x-python",
   "name": "python",
   "nbconvert_exporter": "python",
   "pygments_lexer": "ipython3",
   "version": "3.9.15"
  },
  "orig_nbformat": 4,
  "vscode": {
   "interpreter": {
    "hash": "f9dc829a60bc88e95ee7515aa112f8b243e96ac4d61a0309ba2b4486d7d08976"
   }
  }
 },
 "nbformat": 4,
 "nbformat_minor": 2
}
