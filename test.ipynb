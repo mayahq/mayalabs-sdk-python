{
 "cells": [
  {
   "cell_type": "code",
   "execution_count": 1,
   "metadata": {},
   "outputs": [],
   "source": [
    "\n",
    "import os\n",
    "import src as mayalabs\n",
    "\n",
    "\n",
    "script = \"\"\"\n",
    "1. trigger on receive (*)\n",
    "2. query mysql with 'SELECT * FROM BusinessPartners;' (*)\n",
    "3. Show in a table with button 'Approve now' (*)\n",
    "    - 3.1. print {{payload.result}} (*)\n",
    "    3.2 send response back (*)\n",
    "\"\"\"\n"
   ]
  },
  {
   "cell_type": "code",
   "execution_count": 2,
   "metadata": {},
   "outputs": [
    {
     "data": {
      "text/plain": [
       "'session-b2b37ccd64a9'"
      ]
     },
     "execution_count": 2,
     "metadata": {},
     "output_type": "execute_result"
    }
   ],
   "source": [
    "session = mayalabs.Session.new(script=script)\n",
    "\n",
    "session.id"
   ]
  },
  {
   "cell_type": "code",
   "execution_count": 3,
   "metadata": {},
   "outputs": [
    {
     "name": "stdout",
     "output_type": "stream",
     "text": [
      "{'url': 'https://api.dev.mayalabs.io/app/v2/brains', 'method': 'post', 'json': {'name': 'SDK:Testing Instruct 21', 'alias': None, 'default': False, 'device': {'platform': 'cloud'}}, 'headers': {'x-api-key': 'mayakey-$2a$10$Yt9iCQv1ydwhWXvgr3Lx4.VU.PCWvAR/AmeC.2zW9SScVmHzAYjD2'}}\n",
      "{'message': 'Workspace created successfully', 'error': False, 'status': 200, 'results': {'publishedSkillPacks': [], 'skillPacks': [], 'modules': [], 'externalModules': [], 'local': False, 'autoShutdownBehaviour': 'BY_LAST_USE', 'editorAutoDeploy': False, 'parent': None, 'alias': None, 'invalidNodes': [], 'createdAt': '2023-03-25T14:42:18.000Z', 'updatedAt': '2023-03-25T14:42:18.000Z', '_id': '6421a87a38b70b1ea04bb6ca', 'profileSlug': '3238bc5c-d26a-4ff4-b6c5-e2cc518d312c', 'name': 'SDK:Testing Instruct 21', 'status': 'STOPPED', 'deviceID': '5e0bbfe3717896af1cbb763b', 'deviceName': 'online-cpu', 'device': {'platform': 'cloud'}, 'thumbnail': 'https://maya-frontend-static.s3.ap-south-1.amazonaws.com/default.jpg', 'intents': [], 'url': 'https://rt-6421a87a38b70b1ea04bb6ca.dusnat.dev.mayalabs.io', 'deleted': False, 'createdBy': '3238bc5c-d26a-4ff4-b6c5-e2cc518d312c', 'updatedBy': '3238bc5c-d26a-4ff4-b6c5-e2cc518d312c', '__v': 0}}\n"
     ]
    }
   ],
   "source": [
    "worker = mayalabs.Worker.new(name=\"SDK:Testing Instruct 21\")"
   ]
  },
  {
   "cell_type": "code",
   "execution_count": 4,
   "metadata": {},
   "outputs": [
    {
     "data": {
      "text/plain": [
       "{'message': 'Runtime id 6421a87a38b70b1ea04bb6ca has received start signal',\n",
       " 'error': False,\n",
       " 'status': 200,\n",
       " 'results': {'publishedSkillPacks': [],\n",
       "  'skillPacks': [],\n",
       "  'modules': [],\n",
       "  'externalModules': [],\n",
       "  'local': False,\n",
       "  'autoShutdownBehaviour': 'BY_LAST_USE',\n",
       "  'editorAutoDeploy': False,\n",
       "  'parent': None,\n",
       "  'alias': None,\n",
       "  'invalidNodes': [],\n",
       "  'createdAt': '2023-03-25T14:42:18.000Z',\n",
       "  'updatedAt': '2023-03-27T14:30:36.000Z',\n",
       "  '_id': '6421a87a38b70b1ea04bb6ca',\n",
       "  'profileSlug': '3238bc5c-d26a-4ff4-b6c5-e2cc518d312c',\n",
       "  'name': 'SDK:Testing Instruct 21',\n",
       "  'status': 'PENDING',\n",
       "  'deviceID': '5e0bbfe3717896af1cbb763b',\n",
       "  'deviceName': 'online-cpu',\n",
       "  'device': {'platform': 'cloud'},\n",
       "  'thumbnail': 'https://maya-frontend-static.s3.ap-south-1.amazonaws.com/default.jpg',\n",
       "  'intents': [],\n",
       "  'url': 'https://rt-6421a87a38b70b1ea04bb6ca.dusnat.dev.mayalabs.io',\n",
       "  'deleted': False,\n",
       "  'createdBy': '3238bc5c-d26a-4ff4-b6c5-e2cc518d312c',\n",
       "  'updatedBy': '3238bc5c-d26a-4ff4-b6c5-e2cc518d312c',\n",
       "  '__v': 0}}"
      ]
     },
     "execution_count": 4,
     "metadata": {},
     "output_type": "execute_result"
    }
   ],
   "source": [
    "worker.start()"
   ]
  },
  {
   "cell_type": "code",
   "execution_count": 5,
   "metadata": {},
   "outputs": [
    {
     "name": "stdout",
     "output_type": "stream",
     "text": [
      "COMMS URL: wss://paccomms.pac.dev.mayalabs.io/socket\n",
      "api key: mayakey-$2a$10$Yt9iCQv1ydwhWXvgr3Lx4.VU.PCWvAR/AmeC.2zW9SScVmHzAYjD2\n",
      "Websocket URL: wss://paccomms.pac.dev.mayalabs.io/socket?connId=91753336-c4e2-4657-9bb6-dc3c9be9a0cb&apiKey=mayakey-$2a$10$Yt9iCQv1ydwhWXvgr3Lx4.VU.PCWvAR/AmeC.2zW9SScVmHzAYjD2\n"
     ]
    },
    {
     "name": "stdout",
     "output_type": "stream",
     "text": [
      "TaskID: 3d4c1492-5f14-4df9-85ab-691b8679bcaa\n",
      "Received from websocket: {'task_id': '3d4c1492-5f14-4df9-85ab-691b8679bcaa', 'type': 'GENERATE', 'data': {'status': 'response', 'session_id': 'session-b2b37ccd64a9', 'stitched_flow': [{'valid': True, 'type': 'receive-message', 'z': 'd8385fa6dab115f0', 'name': '', 'isProfileConfigNode': False, 'respondImmediately': 'false', 'payloadTyperespondImmediately': 'bool', 'x': 20, 'y': 20, 'wires': [['9223372040338000103']], 'module': 'maya-resources', 'version': '1.0.0', 'modules': 'maya-resources', 'changed_by_user': False, '_id': '402c7e6a1a4c4987', '_step_id': 'step-instance-61c3b1', 'id': '9223372037190704258'}], 'step_graph': [['step-instance-61c3b1', 'step-instance-460dc9'], ['step-instance-460dc9', 'step-instance-00a96b'], ['step-instance-00a96b', 'step-instance-0e78a4'], ['step-instance-0e78a4', 'step-instance-fad9df']], 'steps': {'step-instance-61c3b1': {'id': 'step-instance-61c3b1', 'type': 'continue', 'indent_lvl': 0, 'lvl_idx': 0, 'from_node': '', 'prefix': '1.', 'parent_id': '', 'generated': True, 'scrambled': False, 'transformed': False, 'generation_id': 'generation-77a7b4934f64', 'error': None, 'deployed': False, 'children': [], 'use_cache': True, 'text': 'trigger on receive'}, 'step-instance-460dc9': {'id': 'step-instance-460dc9', 'type': 'continue', 'indent_lvl': 0, 'lvl_idx': 1, 'from_node': '', 'prefix': '2.', 'parent_id': '', 'generated': False, 'scrambled': False, 'transformed': False, 'generation_id': '', 'error': None, 'deployed': False, 'children': [], 'use_cache': True, 'text': \"query mysql with 'SELECT * FROM BusinessPartners;'\"}, 'step-instance-00a96b': {'id': 'step-instance-00a96b', 'type': 'continue', 'indent_lvl': 0, 'lvl_idx': 2, 'from_node': '', 'prefix': '3.', 'parent_id': '', 'generated': False, 'scrambled': False, 'transformed': False, 'generation_id': '', 'error': None, 'deployed': False, 'children': ['step-instance-0e78a4', 'step-instance-fad9df'], 'use_cache': True, 'text': \"Show in a table with button 'Approve now'\"}, 'step-instance-0e78a4': {'id': 'step-instance-0e78a4', 'type': 'branch', 'indent_lvl': 1, 'lvl_idx': 3, 'from_node': '', 'prefix': '- 3.1.', 'parent_id': 'step-instance-00a96b', 'generated': False, 'scrambled': False, 'transformed': False, 'generation_id': '', 'error': None, 'deployed': False, 'children': [], 'use_cache': True, 'text': 'print {{payload.result}}'}, 'step-instance-fad9df': {'id': 'step-instance-fad9df', 'type': 'continue', 'indent_lvl': 1, 'lvl_idx': 4, 'from_node': '', 'prefix': '3.2', 'parent_id': 'step-instance-00a96b', 'generated': False, 'scrambled': False, 'transformed': False, 'generation_id': '', 'error': None, 'deployed': False, 'children': [], 'use_cache': True, 'text': 'send response back'}}, 'recipe': \"1. trigger on receive\\n2. query mysql with 'SELECT * FROM BusinessPartners;' (*)\\n3. Show in a table with button 'Approve now' (*)\\n    - 3.1. print {{payload.result}} (*)\\n    3.2 send response back (*)\\n\", 'diff': None, 'time': 1679927494.4948277}}\n"
     ]
    }
   ],
   "source": [
    "await session.generate()"
   ]
  },
  {
   "cell_type": "code",
   "execution_count": 6,
   "metadata": {},
   "outputs": [
    {
     "name": "stdout",
     "output_type": "stream",
     "text": [
      "{'publishedSkillPacks': [], 'skillPacks': [], 'modules': [], 'externalModules': [], 'local': False, 'autoShutdownBehaviour': 'BY_LAST_USE', 'editorAutoDeploy': False, 'parent': None, 'alias': None, 'invalidNodes': [], 'createdAt': '2023-03-25T14:42:18.000Z', 'updatedAt': '2023-03-27T14:30:47.000Z', '_id': '6421a87a38b70b1ea04bb6ca', 'profileSlug': '3238bc5c-d26a-4ff4-b6c5-e2cc518d312c', 'name': 'SDK:Testing Instruct 21', 'status': 'STARTED', 'deviceID': '5e0bbfe3717896af1cbb763b', 'deviceName': 'online-cpu', 'device': {'platform': 'cloud'}, 'thumbnail': 'https://maya-frontend-static.s3.ap-south-1.amazonaws.com/default.jpg', 'intents': [], 'url': 'https://rt-6421a87a38b70b1ea04bb6ca.dusnat.dev.mayalabs.io', 'deleted': False, 'createdBy': '3238bc5c-d26a-4ff4-b6c5-e2cc518d312c', 'updatedBy': '3238bc5c-d26a-4ff4-b6c5-e2cc518d312c', '__v': 0}\n",
      "Found worker:  SDK:Testing Instruct 21\n",
      "Deploying...\n",
      "Generating program...\n",
      "COMMS URL: wss://paccomms.pac.dev.mayalabs.io/socket\n",
      "api key: mayakey-$2a$10$Yt9iCQv1ydwhWXvgr3Lx4.VU.PCWvAR/AmeC.2zW9SScVmHzAYjD2\n",
      "Websocket URL: wss://paccomms.pac.dev.mayalabs.io/socket?connId=20b04007-ba0f-4000-8012-802f8f7d9f69&apiKey=mayakey-$2a$10$Yt9iCQv1ydwhWXvgr3Lx4.VU.PCWvAR/AmeC.2zW9SScVmHzAYjD2\n",
      "Program gneerated\n",
      "Deploying on worker: SDK:Testing Instruct 21 ...\n"
     ]
    },
    {
     "data": {
      "text/plain": [
       "{'status': 'ok'}"
      ]
     },
     "execution_count": 6,
     "metadata": {},
     "output_type": "execute_result"
    }
   ],
   "source": [
    "\n",
    "\n",
    "session.deploy(worker_id=worker.id)\n",
    "# or just session.deploy()"
   ]
  },
  {
   "cell_type": "code",
   "execution_count": null,
   "metadata": {},
   "outputs": [],
   "source": [
    "session = mayalabs.SessionClient.get_session(session_id='session-b2b37ccd64a9')"
   ]
  },
  {
   "cell_type": "code",
   "execution_count": 7,
   "metadata": {},
   "outputs": [
    {
     "name": "stderr",
     "output_type": "stream",
     "text": [
      "Task was destroyed but it is pending!\n",
      "task: <Task pending name='Task-14' coro=<Connect.__await_impl__() running at /Users/dushyant/opt/anaconda3/envs/pac/lib/python3.9/site-packages/websockets/legacy/client.py:661> cb=[_release_waiter(<Future pendi...8801d1430>()]>)() at /Users/dushyant/opt/anaconda3/envs/pac/lib/python3.9/asyncio/tasks.py:416]>\n",
      "/Users/dushyant/opt/anaconda3/envs/pac/lib/python3.9/site-packages/pygments/formatters/terminal256.py:180: RuntimeWarning: coroutine 'Connect.__await_impl__' was never awaited\n",
      "  self.xterm_colors.append((r, g, b))\n",
      "RuntimeWarning: Enable tracemalloc to get the object allocation traceback\n",
      "Task was destroyed but it is pending!\n",
      "task: <Task pending name='Task-13' coro=<PacTask.execute() done, defined at /Users/dushyant/Maya/mayalabs-sdk-python/src/utils/pac_engine.py:17> wait_for=<Future pending cb=[<TaskWakeupMethWrapper object at 0x7f88801d1430>()]>>\n"
     ]
    },
    {
     "ename": "TypeError",
     "evalue": "a coroutine was expected, got <Task pending name='Task-16' coro=<WebsocketListener._start_listener() running at /Users/dushyant/Maya/mayalabs-sdk-python/src/utils/websocket.py:15> cb=[WebsocketListener._disconnect()]>",
     "output_type": "error",
     "traceback": [
      "\u001b[0;31m---------------------------------------------------------------------------\u001b[0m",
      "\u001b[0;31mTypeError\u001b[0m                                 Traceback (most recent call last)",
      "Cell \u001b[0;32mIn[7], line 1\u001b[0m\n\u001b[0;32m----> 1\u001b[0m output \u001b[39m=\u001b[39m session\u001b[39m.\u001b[39;49mcall({\u001b[39m'\u001b[39;49m\u001b[39mhello\u001b[39;49m\u001b[39m'\u001b[39;49m: \u001b[39m'\u001b[39;49m\u001b[39mworld\u001b[39;49m\u001b[39m'\u001b[39;49m})\n\u001b[1;32m      2\u001b[0m \u001b[39mprint\u001b[39m(output)\n",
      "File \u001b[0;32m~/Maya/mayalabs-sdk-python/src/session.py:200\u001b[0m, in \u001b[0;36mSession.call\u001b[0;34m(self, msg)\u001b[0m\n\u001b[1;32m    198\u001b[0m \u001b[39mdef\u001b[39;00m \u001b[39mcall\u001b[39m(\u001b[39mself\u001b[39m, msg):\n\u001b[1;32m    199\u001b[0m     call_task \u001b[39m=\u001b[39m asyncio\u001b[39m.\u001b[39mcreate_task(\u001b[39mself\u001b[39m\u001b[39m.\u001b[39mworker\u001b[39m.\u001b[39mcall(msg))\n\u001b[0;32m--> 200\u001b[0m     log_task \u001b[39m=\u001b[39m asyncio\u001b[39m.\u001b[39;49mcreate_task(\u001b[39mself\u001b[39;49m\u001b[39m.\u001b[39;49mworker\u001b[39m.\u001b[39;49mws_client\u001b[39m.\u001b[39;49mcreate_listen_task())\n\u001b[1;32m    201\u001b[0m     call_task\u001b[39m.\u001b[39madd_done_callback(log_task\u001b[39m.\u001b[39mcancel)\n\u001b[1;32m    203\u001b[0m     tasks \u001b[39m=\u001b[39m asyncio\u001b[39m.\u001b[39mgather([call_task, log_task])\n",
      "File \u001b[0;32m~/opt/anaconda3/envs/pac/lib/python3.9/asyncio/tasks.py:361\u001b[0m, in \u001b[0;36mcreate_task\u001b[0;34m(coro, name)\u001b[0m\n\u001b[1;32m    356\u001b[0m \u001b[39m\u001b[39m\u001b[39m\"\"\"Schedule the execution of a coroutine object in a spawn task.\u001b[39;00m\n\u001b[1;32m    357\u001b[0m \n\u001b[1;32m    358\u001b[0m \u001b[39mReturn a Task object.\u001b[39;00m\n\u001b[1;32m    359\u001b[0m \u001b[39m\"\"\"\u001b[39;00m\n\u001b[1;32m    360\u001b[0m loop \u001b[39m=\u001b[39m events\u001b[39m.\u001b[39mget_running_loop()\n\u001b[0;32m--> 361\u001b[0m task \u001b[39m=\u001b[39m loop\u001b[39m.\u001b[39;49mcreate_task(coro)\n\u001b[1;32m    362\u001b[0m _set_task_name(task, name)\n\u001b[1;32m    363\u001b[0m \u001b[39mreturn\u001b[39;00m task\n",
      "File \u001b[0;32m~/opt/anaconda3/envs/pac/lib/python3.9/asyncio/base_events.py:438\u001b[0m, in \u001b[0;36mBaseEventLoop.create_task\u001b[0;34m(self, coro, name)\u001b[0m\n\u001b[1;32m    436\u001b[0m \u001b[39mself\u001b[39m\u001b[39m.\u001b[39m_check_closed()\n\u001b[1;32m    437\u001b[0m \u001b[39mif\u001b[39;00m \u001b[39mself\u001b[39m\u001b[39m.\u001b[39m_task_factory \u001b[39mis\u001b[39;00m \u001b[39mNone\u001b[39;00m:\n\u001b[0;32m--> 438\u001b[0m     task \u001b[39m=\u001b[39m tasks\u001b[39m.\u001b[39;49mTask(coro, loop\u001b[39m=\u001b[39;49m\u001b[39mself\u001b[39;49m, name\u001b[39m=\u001b[39;49mname)\n\u001b[1;32m    439\u001b[0m     \u001b[39mif\u001b[39;00m task\u001b[39m.\u001b[39m_source_traceback:\n\u001b[1;32m    440\u001b[0m         \u001b[39mdel\u001b[39;00m task\u001b[39m.\u001b[39m_source_traceback[\u001b[39m-\u001b[39m\u001b[39m1\u001b[39m]\n",
      "\u001b[0;31mTypeError\u001b[0m: a coroutine was expected, got <Task pending name='Task-16' coro=<WebsocketListener._start_listener() running at /Users/dushyant/Maya/mayalabs-sdk-python/src/utils/websocket.py:15> cb=[WebsocketListener._disconnect()]>"
     ]
    }
   ],
   "source": [
    "output = session.call({'hello': 'world'})\n",
    "print(output)"
   ]
  },
  {
   "cell_type": "code",
   "execution_count": null,
   "metadata": {},
   "outputs": [],
   "source": [
    "worker.delete()"
   ]
  },
  {
   "cell_type": "code",
   "execution_count": null,
   "metadata": {},
   "outputs": [],
   "source": [
    "session.delete()"
   ]
  },
  {
   "cell_type": "code",
   "execution_count": null,
   "metadata": {},
   "outputs": [],
   "source": []
  }
 ],
 "metadata": {
  "kernelspec": {
   "display_name": "p3_9",
   "language": "python",
   "name": "python3"
  },
  "language_info": {
   "codemirror_mode": {
    "name": "ipython",
    "version": 3
   },
   "file_extension": ".py",
   "mimetype": "text/x-python",
   "name": "python",
   "nbconvert_exporter": "python",
   "pygments_lexer": "ipython3",
   "version": "3.9.16"
  },
  "orig_nbformat": 4,
  "vscode": {
   "interpreter": {
    "hash": "f9dc829a60bc88e95ee7515aa112f8b243e96ac4d61a0309ba2b4486d7d08976"
   }
  }
 },
 "nbformat": 4,
 "nbformat_minor": 2
}
